{
 "cells": [
  {
   "cell_type": "code",
   "execution_count": 1,
   "metadata": {},
   "outputs": [],
   "source": [
    "# Byzantine Generals, N consensus using Qiskit, OOP Approach\n",
    "\n",
    "# Import statements\n",
    "import matplotlib.pyplot as plt\n",
    "import matplotlib\n",
    "import numpy as np\n",
    "import copy, random, itertools\n",
    "from scipy.special import comb\n",
    "from qiskit.visualization import plot_histogram  # Visualizing stuff\n",
    "from qiskit import QuantumRegister, QuantumCircuit, execute\n",
    "from qiskit_aer import AerSimulator\n",
    "import qiskit_aer.noise as ns\n",
    "\n",
    "#  Aesthetic Preferences\n",
    "\n",
    "#matplotlib.use( 'tkagg' )\n",
    "#matplotlib.use('Agg')\n",
    "np.set_printoptions(edgeitems=30, linewidth=100000, formatter=dict(float=lambda x: \"%.3g\" % x))\n",
    "\n",
    "from qiskit_ibm_provider import IBMProvider"
   ]
  },
  {
   "cell_type": "code",
   "execution_count": 2,
   "metadata": {},
   "outputs": [],
   "source": [
    "# Creating General Class for OOP Approach\n",
    "\n",
    "class General():\n",
    "    def __init__(self, general_number=1, is_commander=False):\n",
    "        self.id = general_number\n",
    "        self.is_commander = is_commander\n",
    "        self.is_traitor = False\n",
    "        self.states = None\n",
    "        self.orders = None\n",
    "        self.indices = None\n",
    "        self.action = None\n",
    "        \n",
    "    def __repr__(self):\n",
    "        return f\"General Number:{self.id}, Is Commander:{self.is_commander}, Is Traitor:{self.is_traitor}, Has States:{self.states is not None} \\n\"\n",
    "    \n",
    "    def receive_states(self, state_array):\n",
    "        self.states = state_array[self.id, :]\n",
    "    \n",
    "    def receive_orders(self, order, indices):\n",
    "        self.orders = order\n",
    "        self.indices = indices\n",
    "        # Some test of the commanders indices should be inserted here\n",
    "        if self.is_traitor:\n",
    "            self.indices = np.where(self.states == self.orders)[0]\n",
    "            self.orders = not self.orders\n",
    "            \n",
    "\n",
    "class Byzantine_Problem():\n",
    "    \n",
    "    def __init__(self, N_gen, shots=10000, noise=False, noise_level=0.01):\n",
    "        self.N_gen = N_gen  # must be >= 2\n",
    "        self.shots = shots  # max 12615\n",
    "        self.provider = IBMProvider()\n",
    "\n",
    "        hub = \"qc-spring-23-2\"\n",
    "        group = \"group-1\"\n",
    "        project = \"rec2p8vsiAmHZqv6X\"\n",
    "\n",
    "        backend_name = \"ibm_peekskill\"\n",
    "        self.backend = self.provider.get_backend(backend_name, instance=f\"{hub}/{group}/{project}\")\n",
    "        \n",
    "        self.noise = noise\n",
    "        if noise:\n",
    "            # Depolarizing quantum errors\n",
    "            noise_model = ns.NoiseModel()\n",
    "            noise_model.add_all_qubit_quantum_error(ns.depolarizing_error(noise_level, 1),  ['rz'])  # single qubit z-rotation error\n",
    "            self.backend = AerSimulator(noise_model=noise_model)\n",
    "            \n",
    "        self.circuit = QuantumCircuit(self.N_gen+1)  # arg: number of qubits\n",
    "        self.generals_list = []\n",
    "        self.initial_state = None\n",
    "        self.measurements = np.zeros((self.N_gen, self.shots), dtype=int)  # Initializing array with a row for each general, and space to store the corresponding orders 0/1/2 retreat, attack, neither\n",
    "        self.populate()\n",
    "        self.get_initial_state()\n",
    "    \n",
    "    \n",
    "    def __repr__(self):\n",
    "        return f\"BP Object, with {self.N_gen} Generals\"\n",
    "\n",
    "    def populate(self):\n",
    "        self.generals_list.append(General(0, is_commander=True))\n",
    "        for i in range(1,self.N_gen):\n",
    "            self.generals_list.append(General(i, is_commander=False))\n",
    "    \n",
    "    def flip_allegiance(self, *general_number):\n",
    "        for val in general_number:\n",
    "            self.generals_list[val].is_traitor = not self.generals_list[val].is_traitor\n",
    "    \n",
    "    def get_initial_state(self):\n",
    "            # Preparing the initial state as numpy array, values are amplitudes\n",
    "        state = np.zeros(2**(self.N_gen+1))\n",
    "        state[2**(self.N_gen-1)-1] = np.sqrt(1/3)  # Retreat order from commander\n",
    "        state[2**(self.N_gen) + 2**(self.N_gen-1)] = np.sqrt(1/3)  # Attack order from commander\n",
    "        for i in range(self.N_gen-1):\n",
    "            state[2**(self.N_gen-1) + 2**i] = np.sqrt(1/(6*self.N_gen-6))  # commander '01'\n",
    "            state[2**(self.N_gen) + 2**(self.N_gen-1) - 1 - 2**i] = np.sqrt(1/(6*self.N_gen-6))  # commander '10'\n",
    "        self.initial_state = state\n",
    "\n",
    "    def counts_to_memory(self, counts):\n",
    "        memory = []\n",
    "        for bitstring, count in counts.items():\n",
    "            memory.extend([bitstring] * count)\n",
    "        return memory    \n",
    "    \n",
    "    def run_circuit(self, visualize=False, error_mitigation=False):\n",
    "        self.circuit.initialize(self.initial_state, self.circuit.qubits)   \n",
    "        self.circuit.measure_active()\n",
    "        if visualize:\n",
    "            display(self.circuit.draw(output='mpl'))\n",
    "\n",
    "        job = execute(self.circuit, backend=self.backend, shots=self.shots)\n",
    "        results = job.result()\n",
    "        counts = results.get_counts(self.circuit)\n",
    "        self.memory = self.counts_to_memory(counts)\n",
    "\n",
    "        if visualize:\n",
    "            hist = plot_histogram([counts])\n",
    "            hist.show()        \n",
    "        \n",
    "\n",
    "    def distribute_states(self):\n",
    "        # Converting into Array of corresponding orders\n",
    "        v_dic = {'00': 0, '01': 2,  '10': 2,  '11' : 1, '0' :  0, '1' : 1}  # convert bitstrings to n_its and store them\n",
    "        for i, bitstring in enumerate(self.memory):\n",
    "            self.measurements[0][i] = v_dic[bitstring[0:2]] # Commander 2 indices\n",
    "            for j in range(self.N_gen-1):\n",
    "                self.measurements[j+1][i] = v_dic[bitstring[j+2]]\n",
    "        for gen in self.generals_list:\n",
    "            gen.receive_states(self.measurements)\n",
    "    \n",
    "    def get_verification_threshold(self, rounds, conf):\n",
    "        t, sum = 0, 0.0\n",
    "        while sum < conf:\n",
    "            sum += comb(rounds, t) * (2/(3*(self.N_gen-1)))**t * (1 - 2/(3*(self.N_gen-1)))**(rounds-t)\n",
    "            t += 1\n",
    "        return t\n",
    "\n",
    "    def verify_entanglement(self, conf=0.995):\n",
    "        rounds = self.shots//10  # 10% sample for initial verification\n",
    "        threshold = self.get_verification_threshold(rounds=rounds, conf=conf)\n",
    "        pairs = list(itertools.combinations(self.generals_list[1:], 2))\n",
    "        for pair in pairs:\n",
    "            fails = 0\n",
    "            for round in range(rounds):\n",
    "                index = np.random.randint(self.shots)\n",
    "                fails += int(pair[0].states[index] != pair[1].states[index])\n",
    "            if fails > threshold:\n",
    "                # print(\"State Corrupted.\")\n",
    "                for gen in self.generals_list:\n",
    "                    gen.action = False\n",
    "\n",
    "    def send_orders(self):\n",
    "        \"\"\"When the commander is loyal, a random order is first selected, corresponding indices are chosen and the lieutentants receive the same items.\n",
    "        When the commander is a traitor, under rational agent assumptions, to minimize consensus half of the lieutentants receive one order (correct) and half receive the other.\n",
    "        Along with the corresponding indices. This is acheived by randomly reassigning order.\"\"\"\n",
    "        if not self.generals_list[0].is_traitor:  # Loyal General Case\n",
    "            order = bool(random.getrandbits(1))\n",
    "            indices = np.where(self.measurements[0] == order)[0]\n",
    "            for gen in self.generals_list:\n",
    "                gen.receive_orders(order, indices)\n",
    "        else:\n",
    "            for gen in self.generals_list:  # Traitor General Case\n",
    "                order = bool(random.getrandbits(1))\n",
    "                indices = np.where(self.measurements[0] == order)[0]\n",
    "                gen.receive_orders(order, indices)\n",
    "        self.generals_list[0].action = order\n",
    "\n",
    "    def get_traitor_detection_threshold(self, rounds, conf):\n",
    "        t, sum = 0, 0.0\n",
    "        while sum < 1-conf:\n",
    "            sum += comb(rounds, t) * (2/(3*(self.N_gen-1)))**t * (1 - 2/(3*(self.N_gen-1)))**(rounds-t)\n",
    "            t += 1\n",
    "        t -= 1\n",
    "        return t\n",
    "\n",
    "    def realize_agreement(self, conf=0.995, verbose=False):\n",
    "        pairs = list(itertools.combinations(self.generals_list[1:], 2))\n",
    "        for pair in pairs:\n",
    "            self.play(pair, conf, verbose)\n",
    "        # Locking in actions\n",
    "        for gen in self.generals_list:\n",
    "            if gen.action is None:\n",
    "                gen.action = gen.orders\n",
    " \n",
    "    def play(self, gen_pair, conf, verbose):\n",
    "        # Check if they agree on the order then initiate game if they do not\n",
    "        rounds = self.shots//10 # 10% sample for traitor detection\n",
    "        threshold = self.get_traitor_detection_threshold(rounds, conf)\n",
    "        if gen_pair[0].orders != gen_pair[1].orders:\n",
    "            failures = [0, 0]  # number of failures detected by player0 and player1 \n",
    "            turn = bool(random.getrandbits(1))\n",
    "            for i in range(rounds):  # Exchanging indices 1 at a time\n",
    "                if gen_pair[int(turn)].states[gen_pair[int(not turn)].indices[i]] != gen_pair[int(turn)].orders:\n",
    "                    failures[int(turn)] += 1\n",
    "                if gen_pair[int(not turn)].states[gen_pair[int(turn)].indices[i]] != gen_pair[int(not turn)].orders:\n",
    "                    failures[int(not turn)] += 1\n",
    "                turn = not turn\n",
    "            if not gen_pair[0].is_traitor:\n",
    "                if failures[0] > threshold:\n",
    "                    if verbose:\n",
    "                        print(f\"Lieutenant #{gen_pair[0].id} identifies Lieutenant #{gen_pair[1].id} as a traitor with failure rate {failures[0]/rounds}.\")\n",
    "                else:\n",
    "                    if verbose:\n",
    "                        print(f\"Lieutenant #{gen_pair[0].id} identifies the Commander as a traitor with failure rate {failures[0]/rounds}.\")\n",
    "                    gen_pair[0].action = False\n",
    "\n",
    "            if not gen_pair[1].is_traitor:\n",
    "                if failures[1] > threshold:\n",
    "                    if verbose:\n",
    "                        print(f\"Lieutenant #{gen_pair[1].id} identifies Lieutenant #{gen_pair[0].id} as a traitor with failure rate {failures[1]/rounds}.\")\n",
    "                else:\n",
    "                    if verbose:\n",
    "                        print(f\"Lieutenant #{gen_pair[1].id} identifies the Commander as a traitor with failure rate {failures[1]/rounds}.\")\n",
    "                    gen_pair[1].action = False       \n",
    "\n",
    "    def detectable_broadcast(self):\n",
    "        loyal_gens = [gen for gen in self.generals_list if not gen.is_traitor]\n",
    "        # for gen in self.generals_list:\n",
    "            # print(gen.id, gen.orders, gen.action)\n",
    "        tally = 0  # need to keep track of agreement\n",
    "        db_achieved = False  # default false\n",
    "        if not self.generals_list[0].is_traitor:\n",
    "            # If commander is loyal, all loyal generals agree on commanders action\n",
    "            for gen in loyal_gens:\n",
    "                tally += gen.action == self.generals_list[0].orders\n",
    "            if tally == len(loyal_gens):\n",
    "                db_achieved = True\n",
    "        else:\n",
    "            # If commander is not loyal, then all loyal generals abort\n",
    "            for gen in loyal_gens:\n",
    "                tally += gen.action == 0\n",
    "            if tally == len(loyal_gens):\n",
    "                 db_achieved = True\n",
    "        return db_achieved\n",
    "\n"
   ]
  },
  {
   "cell_type": "code",
   "execution_count": 5,
   "metadata": {},
   "outputs": [
    {
     "data": {
      "text/plain": [
       "<Figure size 1213.74x618.722 with 1 Axes>"
      ]
     },
     "metadata": {},
     "output_type": "display_data"
    },
    {
     "data": {
      "text/plain": [
       "True"
      ]
     },
     "execution_count": 5,
     "metadata": {},
     "output_type": "execute_result"
    }
   ],
   "source": [
    "test = Byzantine_Problem(5,noise=False)\n",
    "\n",
    "test.flip_allegiance(0, 1, 2, 3, 4)\n",
    "test.run_circuit(visualize=True)\n",
    "test.distribute_states()\n",
    "test.verify_entanglement()\n",
    "test.send_orders()\n",
    "test.realize_agreement()\n",
    "test.detectable_broadcast()\n",
    "\n",
    "\n"
   ]
  },
  {
   "cell_type": "markdown",
   "metadata": {},
   "source": [
    "## Test"
   ]
  },
  {
   "cell_type": "code",
   "execution_count": 15,
   "metadata": {
    "tags": []
   },
   "outputs": [
    {
     "name": "stdout",
     "output_type": "stream",
     "text": [
      "[(0, True), (1, False), (2, True)]\n",
      "Runtime:  75.03773260116577 seconds\n"
     ]
    }
   ],
   "source": [
    "import time\n",
    "\n",
    "N = 3  # Run time for N = 25 ~ \n",
    "n_traitors = np.arange(0, N, dtype=int)\n",
    "dba = []\n",
    "start_time = time.time()  # Start time\n",
    "\n",
    "for num in n_traitors:\n",
    "    traitors = np.random.choice(n_traitors, num, replace=False)\n",
    "    circ = Byzantine_Problem(N, noise=False)\n",
    "    circ.flip_allegiance(*traitors)\n",
    "    circ.run_circuit(visualize=False)\n",
    "    circ.distribute_states()\n",
    "    circ.verify_entanglement()\n",
    "    circ.send_orders()\n",
    "    circ.realize_agreement()\n",
    "    dba.append((num, circ.detectable_broadcast()))\n",
    "    #if num % 5 == 0:\n",
    "        #print(num)\n",
    "\n",
    "end_time = time.time()  # End time\n",
    "\n",
    "print(dba)\n",
    "print(\"Runtime: \", end_time - start_time, \"seconds\")"
   ]
  },
  {
   "cell_type": "code",
   "execution_count": 16,
   "metadata": {
    "tags": []
   },
   "outputs": [
    {
     "name": "stdout",
     "output_type": "stream",
     "text": [
      "[(0, True), (1, False), (2, True), (3, True)]\n",
      "Runtime:  94.10038328170776 seconds\n"
     ]
    }
   ],
   "source": [
    "import time\n",
    "\n",
    "N = 4  # Run time for N = 25 ~ \n",
    "n_traitors = np.arange(0, N, dtype=int)\n",
    "dba = []\n",
    "start_time = time.time()  # Start time\n",
    "\n",
    "for num in n_traitors:\n",
    "    traitors = np.random.choice(n_traitors, num, replace=False)\n",
    "    circ = Byzantine_Problem(N, noise=False)\n",
    "    circ.flip_allegiance(*traitors)\n",
    "    circ.run_circuit(visualize=False)\n",
    "    circ.distribute_states()\n",
    "    circ.verify_entanglement()\n",
    "    circ.send_orders()\n",
    "    circ.realize_agreement()\n",
    "    dba.append((num, circ.detectable_broadcast()))\n",
    "    #if num % 5 == 0:\n",
    "        #print(num)\n",
    "\n",
    "end_time = time.time()  # End time\n",
    "\n",
    "print(dba)\n",
    "print(\"Runtime: \", end_time - start_time, \"seconds\")"
   ]
  },
  {
   "cell_type": "code",
   "execution_count": 17,
   "metadata": {
    "tags": []
   },
   "outputs": [
    {
     "name": "stdout",
     "output_type": "stream",
     "text": [
      "[(0, False), (1, True), (2, False), (3, True), (4, True)]\n",
      "Runtime:  144.7593114376068 seconds\n"
     ]
    }
   ],
   "source": [
    "import time\n",
    "\n",
    "N = 5  # Run time for N = 25 ~ \n",
    "n_traitors = np.arange(0, N, dtype=int)\n",
    "dba = []\n",
    "start_time = time.time()  # Start time\n",
    "\n",
    "for num in n_traitors:\n",
    "    traitors = np.random.choice(n_traitors, num, replace=False)\n",
    "    circ = Byzantine_Problem(N, noise=False)\n",
    "    circ.flip_allegiance(*traitors)\n",
    "    circ.run_circuit(visualize=False)\n",
    "    circ.distribute_states()\n",
    "    circ.verify_entanglement()\n",
    "    circ.send_orders()\n",
    "    circ.realize_agreement()\n",
    "    dba.append((num, circ.detectable_broadcast()))\n",
    "    #if num % 5 == 0:\n",
    "        #print(num)\n",
    "\n",
    "end_time = time.time()  # End time\n",
    "\n",
    "print(dba)\n",
    "print(\"Runtime: \", end_time - start_time, \"seconds\")"
   ]
  },
  {
   "cell_type": "code",
   "execution_count": 18,
   "metadata": {
    "tags": []
   },
   "outputs": [
    {
     "name": "stdout",
     "output_type": "stream",
     "text": [
      "[(0, True), (1, False), (2, True), (3, True), (4, True), (5, True)]\n",
      "Runtime:  179.03533577919006 seconds\n"
     ]
    }
   ],
   "source": [
    "import time\n",
    "\n",
    "N = 6  # Run time for N = 25 ~ \n",
    "n_traitors = np.arange(0, N, dtype=int)\n",
    "dba = []\n",
    "start_time = time.time()  # Start time\n",
    "\n",
    "for num in n_traitors:\n",
    "    traitors = np.random.choice(n_traitors, num, replace=False)\n",
    "    circ = Byzantine_Problem(N, noise=False)\n",
    "    circ.flip_allegiance(*traitors)\n",
    "    circ.run_circuit(visualize=False)\n",
    "    circ.distribute_states()\n",
    "    circ.verify_entanglement()\n",
    "    circ.send_orders()\n",
    "    circ.realize_agreement()\n",
    "    dba.append((num, circ.detectable_broadcast()))\n",
    "    #if num % 5 == 0:\n",
    "        #print(num)\n",
    "\n",
    "end_time = time.time()  # End time\n",
    "\n",
    "print(dba)\n",
    "print(\"Runtime: \", end_time - start_time, \"seconds\")"
   ]
  },
  {
   "cell_type": "code",
   "execution_count": 14,
   "metadata": {},
   "outputs": [
    {
     "name": "stdout",
     "output_type": "stream",
     "text": [
      "[(0, True), (1, True), (2, True), (3, True), (4, True), (5, True), (6, True)]\n",
      "Runtime:  207.9277572631836 seconds\n"
     ]
    }
   ],
   "source": [
    "import time\n",
    "\n",
    "N = 7  # Run time for N = 25 ~ \n",
    "n_traitors = np.arange(0, N, dtype=int)\n",
    "dba = []\n",
    "start_time = time.time()  # Start time\n",
    "\n",
    "for num in n_traitors:\n",
    "    traitors = np.random.choice(n_traitors, num, replace=False)\n",
    "    circ = Byzantine_Problem(N, noise=False)\n",
    "    circ.flip_allegiance(*traitors)\n",
    "    circ.run_circuit(visualize=False)\n",
    "    circ.distribute_states()\n",
    "    circ.verify_entanglement()\n",
    "    circ.send_orders()\n",
    "    circ.realize_agreement()\n",
    "    dba.append((num, circ.detectable_broadcast()))\n",
    "    #if num % 5 == 0:\n",
    "        #print(num)\n",
    "\n",
    "end_time = time.time()  # End time\n",
    "\n",
    "print(dba)\n",
    "print(\"Runtime: \", end_time - start_time, \"seconds\")"
   ]
  },
  {
   "cell_type": "markdown",
   "metadata": {},
   "source": [
    "## For Some Visualizatrions and Analysis"
   ]
  },
  {
   "cell_type": "code",
   "execution_count": 8,
   "metadata": {
    "tags": []
   },
   "outputs": [
    {
     "data": {
      "image/png": "[encoded data removed]",
      "text/plain": [
       "<Figure size 1000x600 with 1 Axes>"
      ]
     },
     "metadata": {},
     "output_type": "display_data"
    }
   ],
   "source": [
    "import matplotlib.pyplot as plt\n",
    "\n",
    "# Unzip the results\n",
    "traitors, dba_results = zip(*dba)\n",
    "\n",
    "# Convert boolean results to integer\n",
    "dba_results = [int(result) for result in dba_results]\n",
    "\n",
    "plt.figure(figsize=(10, 6))\n",
    "plt.plot(traitors, dba_results, marker='o')\n",
    "plt.title(\"Detectable Broadcast Agreement vs. Number of Traitors\")\n",
    "plt.xlabel(\"Number of Traitors\")\n",
    "plt.ylabel(\"Detectable Broadcast Agreement (1 = Yes, 0 = No)\")\n",
    "plt.show()\n",
    "plt.close()  # close the current figure"
   ]
  },
  {
   "cell_type": "code",
   "execution_count": 9,
   "metadata": {
    "tags": []
   },
   "outputs": [
    {
     "name": "stdout",
     "output_type": "stream",
     "text": [
      "The success rate of achieving a detectable broadcast agreement was 75.0%.\n"
     ]
    }
   ],
   "source": [
    "# Calculate success rate\n",
    "success_rate = sum(dba_results) / len(dba_results) * 100\n",
    "print(f\"The success rate of achieving a detectable broadcast agreement was {success_rate}%.\")"
   ]
  },
  {
   "cell_type": "code",
   "execution_count": 10,
   "metadata": {
    "tags": []
   },
   "outputs": [
    {
     "name": "stdout",
     "output_type": "stream",
     "text": [
      "With 0 traitors, detectable broadcast agreement was not achieved.\n",
      "With 1 traitors, detectable broadcast agreement was achieved.\n",
      "With 2 traitors, detectable broadcast agreement was achieved.\n",
      "With 3 traitors, detectable broadcast agreement was achieved.\n"
     ]
    }
   ],
   "source": [
    "for num, result in dba:\n",
    "    print(f\"With {num} traitors, detectable broadcast agreement was {'achieved' if result else 'not achieved'}.\")"
   ]
  },
  {
   "cell_type": "code",
   "execution_count": 11,
   "metadata": {},
   "outputs": [
    {
     "data": {
      "image/png": "[encoded data removed]",
      "text/plain": [
       "<Figure size 640x480 with 1 Axes>"
      ]
     },
     "metadata": {},
     "output_type": "display_data"
    }
   ],
   "source": [
    "# Plotting\n",
    "x = [score[0] for score in dba]\n",
    "y = [score[1] for score in dba]\n",
    "\n",
    "plt.scatter(x, y)\n",
    "plt.show()"
   ]
  },
  {
   "cell_type": "code",
   "execution_count": null,
   "metadata": {},
   "outputs": [],
   "source": []
  }
 ],
 "metadata": {
  "kernelspec": {
   "display_name": "Python 3 (ipykernel)",
   "language": "python",
   "name": "python3"
  },
  "language_info": {
   "codemirror_mode": {
    "name": "ipython",
    "version": 3
   },
   "file_extension": ".py",
   "mimetype": "text/x-python",
   "name": "python",
   "nbconvert_exporter": "python",
   "pygments_lexer": "ipython3",
   "version": "3.10.8"
  },
  "vscode": {
   "interpreter": {
    "hash": "8856f7cf4306ab84eb177651bcfc2e75f54f9c0bd029a5fbc7351833a20bb39f"
   }
  },
  "widgets": {
   "application/vnd.jupyter.widget-state+json": {
    "state": {},
    "version_major": 2,
    "version_minor": 0
   }
  }
 },
 "nbformat": 4,
 "nbformat_minor": 4
}
